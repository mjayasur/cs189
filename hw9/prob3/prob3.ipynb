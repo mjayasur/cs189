{
 "cells": [
  {
   "cell_type": "markdown",
   "metadata": {},
   "source": [
    "# Part A\n"
   ]
  },
  {
   "cell_type": "code",
   "execution_count": 3,
   "metadata": {},
   "outputs": [],
   "source": [
    "import numpy as np\n",
    "import scipy.spatial\n",
    "from starter import *\n",
    "import torch\n",
    "from tqdm import tqdm"
   ]
  },
  {
   "cell_type": "code",
   "execution_count": 17,
   "metadata": {},
   "outputs": [],
   "source": [
    "#####################################################################\n",
    "## Models used for predictions.\n",
    "#####################################################################\n",
    "def compute_update(single_obj_loc, sensor_loc, single_distance):\n",
    "    \"\"\"\n",
    "    Compute the gradient of the loglikelihood function for part a.\n",
    "\n",
    "    Input:\n",
    "    single_obj_loc: 1 * d numpy array.\n",
    "    Location of the single object.\n",
    "\n",
    "    sensor_loc: k * d numpy array.\n",
    "    Location of sensor.\n",
    "\n",
    "    single_distance: k dimensional numpy array.\n",
    "    Observed distance of the object.\n",
    "\n",
    "    Output:\n",
    "    grad: d-dimensional numpy array.\n",
    "\n",
    "    \"\"\"\n",
    "    loc_difference = single_obj_loc - sensor_loc  # k * d.\n",
    "    phi = np.linalg.norm(loc_difference, axis=1)  # k.\n",
    "    grad = loc_difference / np.expand_dims(phi, 1)  # k * 2.\n",
    "    update = np.linalg.solve(\n",
    "        grad.T.dot(grad), grad.T.dot(single_distance - phi))\n",
    "\n",
    "    return update\n",
    "\n",
    "\n",
    "def get_object_location(sensor_loc,\n",
    "                        single_distance,\n",
    "                        num_iters=20,\n",
    "                        num_repeats=10):\n",
    "    \"\"\"\n",
    "    Compute the gradient of the loglikelihood function for part a.\n",
    "\n",
    "    Input:\n",
    "\n",
    "    sensor_loc: k * d numpy array. Location of sensor.\n",
    "\n",
    "    single_distance: k dimensional numpy array.\n",
    "    Observed distance of the object.\n",
    "\n",
    "    Output:\n",
    "    obj_loc: 1 * d numpy array. The mle for the location of the object.\n",
    "\n",
    "    \"\"\"\n",
    "    obj_locs = np.zeros((num_repeats, 1, 2))\n",
    "    distances = np.zeros(num_repeats)\n",
    "    for i in range(num_repeats):\n",
    "        obj_loc = np.random.randn(1, 2) * 100\n",
    "        for t in range(num_iters):\n",
    "            obj_loc += compute_update(obj_loc, sensor_loc, single_distance)\n",
    "\n",
    "        distances[i] = np.sum(\n",
    "            (single_distance - np.linalg.norm(obj_loc - sensor_loc, axis=1))\n",
    "            **2)\n",
    "        obj_locs[i] = obj_loc\n",
    "\n",
    "    obj_loc = obj_locs[np.argmin(distances)]\n",
    "\n",
    "    return obj_loc[0]\n",
    "\n",
    "\n",
    "def generative_model(X, Y, Xs_test, Ys_test):\n",
    "    \"\"\"\n",
    "    This function implements the generative model.\n",
    "    Input:\n",
    "    X: independent variables in training data.\n",
    "    Y: dependent variables in training data.\n",
    "    Xs_test: independent variables in test data.\n",
    "    Ys_test: dependent variables in test data.\n",
    "    Output:\n",
    "    mse: Mean square error on test data.\n",
    "    \"\"\"\n",
    "    initial_sensor_loc = np.random.randn(7, 2) * 100\n",
    "    estimated_sensor_loc = find_mle_by_grad_descent_part_e(\n",
    "        initial_sensor_loc, Y, X, lr=0.001, num_iters=1000)\n",
    "\n",
    "    mses = []\n",
    "    for i, X_test in enumerate(Xs_test):\n",
    "        Y_test = Ys_test[i]\n",
    "        Y_pred = np.array([\n",
    "            get_object_location(estimated_sensor_loc, X_test_single)\n",
    "            for X_test_single in X_test\n",
    "        ])\n",
    "        mse = np.mean(np.sqrt(np.sum((Y_pred - Y_test)**2, axis=1)))\n",
    "        mses.append(mse)\n",
    "    return mses\n",
    "\n",
    "\n",
    "def oracle_model(X, Y, Xs_test, Ys_test, sensor_loc):\n",
    "    \"\"\"\n",
    "    This function implements the generative model.\n",
    "    Input:\n",
    "    X: independent variables in training data.\n",
    "    Y: dependent variables in training data.\n",
    "    Xs_test: independent variables in test data.\n",
    "    Ys_test: dependent variables in test data.\n",
    "    sensor_loc: location of the sensors.\n",
    "    Output:\n",
    "    mse: Mean square error on test data.\n",
    "    \"\"\"\n",
    "    mses = []\n",
    "    for i, X_test in enumerate(Xs_test):\n",
    "        Y_test = Ys_test[i]\n",
    "        Y_pred = np.array([\n",
    "            get_object_location(sensor_loc, X_test_single)\n",
    "            for X_test_single in X_test\n",
    "        ])\n",
    "        mse = np.mean(np.sqrt(np.sum((Y_pred - Y_test)**2, axis=1)))\n",
    "        mses.append(mse)\n",
    "    return mses\n",
    "\n",
    "\n",
    "def zero_model(X, Y, Xs_test, Ys_test, sensor_loc):\n",
    "    \"\"\"\n",
    "    This function implements the zero model: always predict zero\n",
    "    Input:\n",
    "    X: independent variables in training data.\n",
    "    Y: dependent variables in training data.\n",
    "    Xs_test: independent variables in test data.\n",
    "    Ys_test: dependent variables in test data.\n",
    "    sensor_loc: location of the sensors.\n",
    "    Output:\n",
    "    mse: Mean square error on test data.\n",
    "    \"\"\"\n",
    "    mses = []\n",
    "    for i, X_test in enumerate(Xs_test):\n",
    "        Y_test = Ys_test[i]\n",
    "        Y_pred = np.zeros(Y_test.shape)\n",
    "        mse = np.mean(np.sqrt(np.sum((Y_pred - Y_test)**2, axis=1)))\n",
    "        mses.append(mse)\n",
    "    return mses\n",
    "\n",
    "\n",
    "def construct_second_order_data(X):\n",
    "    \"\"\"\n",
    "    This function computes second order variables\n",
    "    for polynomial regression.\n",
    "    Input:\n",
    "    X: Independent variables.\n",
    "    Output:\n",
    "    A data matrix composed of both first and second order terms.\n",
    "    \"\"\"\n",
    "    X_second_order = []\n",
    "    m = X.shape[1]\n",
    "    for i in range(m):\n",
    "        for j in range(m):\n",
    "            if j <= i:\n",
    "                X_second_order.append(X[:, i] * X[:, j])\n",
    "    X_second_order = np.array(X_second_order).T\n",
    "    return np.concatenate((X, X_second_order), axis=1)\n",
    "\n",
    "\n",
    "def linear_regression(X, Y, Xs_test, Ys_test):\n",
    "    \"\"\"\n",
    "    This function performs linear regression.\n",
    "    Input:\n",
    "    X: independent variables in training data.\n",
    "    Y: dependent variables in training data.\n",
    "    Xs_test: independent variables in test data.\n",
    "    Ys_test: dependent variables in test data.\n",
    "    Output:\n",
    "    mse: Mean square error on test data.\n",
    "    \"\"\"\n",
    "\n",
    "    ## YOUR CODE HERE\n",
    "    ### start linReg ###\n",
    "    w = np.linalg.lstsq(X, Y)[0]\n",
    "    mses = []\n",
    "    for X_test, Y_test in zip(Xs_test, Ys_test):\n",
    "        mses.append(np.mean(np.linalg.norm(Y_test - X_test @ w)**2))\n",
    "    ### end linReg ###\n",
    "    return mses\n",
    "\n",
    "\n",
    "def poly_regression_second(X, Y, Xs_test, Ys_test):\n",
    "    \"\"\"\n",
    "    This function performs second order polynomial regression.\n",
    "    Input:\n",
    "    X: independent variables in training data.\n",
    "    Y: dependent variables in training data.\n",
    "    Xs_test: independent variables in test data.\n",
    "    Ys_test: dependent variables in test data.\n",
    "    Output:\n",
    "    mse: Mean square error on test data.\n",
    "    \"\"\"\n",
    "    ## YOUR CODE HERE\n",
    "    ### start polyReg ###\n",
    "    \n",
    "    w = np.linalg.lstsq(construct_second_order_data(X), Y)[0]\n",
    "    mses = []\n",
    "    for X_test, Y_test in zip(Xs_test, Ys_test):\n",
    "        mses.append(np.mean(np.linalg.norm(Y_test - construct_second_order_data(X_test) @ w)**2))\n",
    "    ### end polyReg ###\n",
    "    return mses\n",
    "\n",
    "\n",
    "def poly_regression_cubic(X, Y, Xs_test, Ys_test):\n",
    "    \"\"\"\n",
    "    This function performs third order polynomial regression.\n",
    "    Input:\n",
    "    X: independent variables in training data.\n",
    "    Y: dependent variables in training data.\n",
    "    Xs_test: independent variables in test data.\n",
    "    Ys_test: dependent variables in test data.\n",
    "    Output:\n",
    "    mse: Mean square error on test data.\n",
    "    \"\"\"\n",
    "    ## YOUR CODE HERE\n",
    "    ### start cubReg ###\n",
    "    mses = []\n",
    "    \n",
    "    ### end cubReg ###\n",
    "    return mses\n",
    "\n",
    "\n",
    "def neural_network(X, Y, Xs_test, Ys_test):\n",
    "    \"\"\"\n",
    "    This function performs neural network prediction.\n",
    "    Input:\n",
    "    X: independent variables in training data.\n",
    "    Y: dependent variables in training data.\n",
    "    Xs_test: independent variables in test data.\n",
    "    Ys_test: dependent variables in test data.\n",
    "    Output:\n",
    "    mse: Mean square error on test data.\n",
    "    \"\"\"\n",
    "    ## YOUR CODE HERE\n",
    "    ### start nn ###\n",
    "    D_in = X.shape[1]\n",
    "    D_out = Y.shape[1]\n",
    "    H = 100\n",
    "    learning_rate = 0.1\n",
    "    \n",
    "    loss_fn = torch.nn.MSELoss(reduction='sum')\n",
    "    model = torch.nn.Sequential(\n",
    "        torch.nn.Linear(D_in, H),\n",
    "        torch.nn.ReLU(),\n",
    "        torch.nn.Linear(H, H),\n",
    "        torch.nn.ReLU(),\n",
    "        torch.nn.Linear(H, D_out),\n",
    "    )\n",
    "    optimizer = torch.optim.SGD(model.parameters(), lr=learning_rate)\n",
    "    x = torch.from_numpy(X).float()\n",
    "    y = torch.from_numpy(Y).float()\n",
    "    n = X.shape[0]\n",
    "    b = 1\n",
    "    bs = n//b\n",
    "    mses = []\n",
    "#     print (\"Number of samples: \", n)\n",
    "#     print (\"Number of batches: \", b)\n",
    "#     print (\"Batch size: \", bs)\n",
    "    epochs = 10\n",
    "    for i in tqdm(range(epochs)):\n",
    "        for i in range(b):\n",
    "            start_i = i * bs\n",
    "            end_i = start_i + bs\n",
    "            y_pred = model(x[start_i:end_i])\n",
    "            loss = loss_fn(y_pred, y[start_i:end_i])\n",
    "            optimizer.zero_grad()\n",
    "            loss.backward()\n",
    "            optimizer.step()\n",
    "    for X_test, Y_test in zip(Xs_test, Ys_test):\n",
    "        x = torch.from_numpy(X_test).float()\n",
    "        y = torch.from_numpy(Y_test).float()\n",
    "        y_pred = model(x)\n",
    "        loss = loss_fn(y_pred, y)\n",
    "        mses.append(loss/i)\n",
    "    ### end nn ###\n",
    "    return mses\n"
   ]
  },
  {
   "cell_type": "markdown",
   "metadata": {},
   "source": [
    "# Part B\n"
   ]
  },
  {
   "cell_type": "code",
   "execution_count": 18,
   "metadata": {},
   "outputs": [
    {
     "data": {
      "image/png": "[encoded data removed]",
      "text/plain": [
       "<Figure size 432x288 with 1 Axes>"
      ]
     },
     "metadata": {
      "needs_background": "light"
     },
     "output_type": "display_data"
    }
   ],
   "source": [
    "# plot 0\n",
    "import matplotlib.pyplot as plt\n",
    "\n",
    "\n",
    "np.random.seed(0)\n",
    "sensor_loc = generate_sensors()\n",
    "regular_loc, _ = generate_dataset(\n",
    "    sensor_loc,\n",
    "    num_sensors=sensor_loc.shape[0],\n",
    "    spatial_dim=2,\n",
    "    num_data=20,\n",
    "    original_dist=True,\n",
    "    noise=1)\n",
    "shifted_loc, _ = generate_dataset(\n",
    "    sensor_loc,\n",
    "    num_sensors=sensor_loc.shape[0],\n",
    "    spatial_dim=2,\n",
    "    num_data=20,\n",
    "    original_dist=False,\n",
    "    noise=1)\n",
    "\n",
    "plt.scatter(sensor_loc[:, 0], sensor_loc[:, 1], label=\"sensors\")\n",
    "plt.scatter(regular_loc[:, 0], regular_loc[:, 1], label=\"regular points\")\n",
    "plt.scatter(shifted_loc[:, 0], shifted_loc[:, 1], label=\"shifted points\")\n",
    "plt.legend()\n",
    "plt.savefig(\"dataset.png\")\n",
    "plt.show()\n"
   ]
  },
  {
   "cell_type": "markdown",
   "metadata": {},
   "source": [
    "# Part C\n"
   ]
  },
  {
   "cell_type": "code",
   "execution_count": 22,
   "metadata": {},
   "outputs": [
    {
     "name": "stderr",
     "output_type": "stream",
     "text": [
      "<ipython-input-17-b029473dbd68>:171: FutureWarning: `rcond` parameter will change to the default of machine precision times ``max(M, N)`` where M and N are the input matrix dimensions.\n",
      "To use the future default and silence this warning we advise to pass `rcond=None`, to keep using the old, explicitly pass `rcond=-1`.\n",
      "  w = np.linalg.lstsq(X, Y)[0]\n",
      "<ipython-input-17-b029473dbd68>:193: FutureWarning: `rcond` parameter will change to the default of machine precision times ``max(M, N)`` where M and N are the input matrix dimensions.\n",
      "To use the future default and silence this warning we advise to pass `rcond=None`, to keep using the old, explicitly pass `rcond=-1`.\n",
      "  w = np.linalg.lstsq(construct_second_order_data(X), Y)[0]\n",
      "100%|██████████| 10/10 [00:00<00:00, 674.02it/s]\n",
      "100%|██████████| 10/10 [00:00<00:00, 823.96it/s]"
     ]
    },
    {
     "name": "stdout",
     "output_type": "stream",
     "text": [
      "0th Experiment with 10 samples done...\n"
     ]
    },
    {
     "name": "stderr",
     "output_type": "stream",
     "text": [
      "\n",
      "100%|██████████| 10/10 [00:00<00:00, 787.99it/s]"
     ]
    },
    {
     "name": "stdout",
     "output_type": "stream",
     "text": [
      "0th Experiment with 30 samples done...\n"
     ]
    },
    {
     "name": "stderr",
     "output_type": "stream",
     "text": [
      "\n",
      "100%|██████████| 10/10 [00:00<00:00, 499.11it/s]"
     ]
    },
    {
     "name": "stdout",
     "output_type": "stream",
     "text": [
      "0th Experiment with 50 samples done...\n"
     ]
    },
    {
     "name": "stderr",
     "output_type": "stream",
     "text": [
      "\n",
      "100%|██████████| 10/10 [00:00<00:00, 828.77it/s]"
     ]
    },
    {
     "name": "stdout",
     "output_type": "stream",
     "text": [
      "0th Experiment with 70 samples done...\n"
     ]
    },
    {
     "name": "stderr",
     "output_type": "stream",
     "text": [
      "\n",
      "100%|██████████| 10/10 [00:00<00:00, 731.72it/s]"
     ]
    },
    {
     "name": "stdout",
     "output_type": "stream",
     "text": [
      "0th Experiment with 90 samples done...\n"
     ]
    },
    {
     "name": "stderr",
     "output_type": "stream",
     "text": [
      "\n",
      "100%|██████████| 10/10 [00:00<00:00, 733.17it/s]"
     ]
    },
    {
     "name": "stdout",
     "output_type": "stream",
     "text": [
      "0th Experiment with 110 samples done...\n"
     ]
    },
    {
     "name": "stderr",
     "output_type": "stream",
     "text": [
      "\n",
      "100%|██████████| 10/10 [00:00<00:00, 668.97it/s]"
     ]
    },
    {
     "name": "stdout",
     "output_type": "stream",
     "text": [
      "0th Experiment with 130 samples done...\n"
     ]
    },
    {
     "name": "stderr",
     "output_type": "stream",
     "text": [
      "\n",
      "100%|██████████| 10/10 [00:00<00:00, 691.42it/s]"
     ]
    },
    {
     "name": "stdout",
     "output_type": "stream",
     "text": [
      "0th Experiment with 150 samples done...\n"
     ]
    },
    {
     "name": "stderr",
     "output_type": "stream",
     "text": [
      "\n",
      "100%|██████████| 10/10 [00:00<00:00, 530.34it/s]"
     ]
    },
    {
     "name": "stdout",
     "output_type": "stream",
     "text": [
      "0th Experiment with 170 samples done...\n"
     ]
    },
    {
     "name": "stderr",
     "output_type": "stream",
     "text": [
      "\n",
      "100%|██████████| 10/10 [00:00<00:00, 515.71it/s]"
     ]
    },
    {
     "name": "stdout",
     "output_type": "stream",
     "text": [
      "0th Experiment with 190 samples done...\n"
     ]
    },
    {
     "name": "stderr",
     "output_type": "stream",
     "text": [
      "\n",
      "100%|██████████| 10/10 [00:00<00:00, 624.70it/s]"
     ]
    },
    {
     "name": "stdout",
     "output_type": "stream",
     "text": [
      "0th Experiment with 210 samples done...\n"
     ]
    },
    {
     "name": "stderr",
     "output_type": "stream",
     "text": [
      "\n",
      "100%|██████████| 10/10 [00:00<00:00, 125.69it/s]"
     ]
    },
    {
     "name": "stdout",
     "output_type": "stream",
     "text": [
      "0th Experiment with 230 samples done...\n"
     ]
    },
    {
     "name": "stderr",
     "output_type": "stream",
     "text": [
      "\n",
      "100%|██████████| 10/10 [00:00<00:00, 120.51it/s]"
     ]
    },
    {
     "name": "stdout",
     "output_type": "stream",
     "text": [
      "0th Experiment with 250 samples done...\n"
     ]
    },
    {
     "name": "stderr",
     "output_type": "stream",
     "text": [
      "\n",
      "100%|██████████| 10/10 [00:00<00:00, 486.09it/s]"
     ]
    },
    {
     "name": "stdout",
     "output_type": "stream",
     "text": [
      "0th Experiment with 270 samples done...\n"
     ]
    },
    {
     "name": "stderr",
     "output_type": "stream",
     "text": [
      "\n",
      "100%|██████████| 10/10 [00:00<00:00, 768.36it/s]"
     ]
    },
    {
     "name": "stdout",
     "output_type": "stream",
     "text": [
      "0th Experiment with 290 samples done...\n"
     ]
    },
    {
     "name": "stderr",
     "output_type": "stream",
     "text": [
      "\n",
      "100%|██████████| 10/10 [00:00<00:00, 542.45it/s]"
     ]
    },
    {
     "name": "stdout",
     "output_type": "stream",
     "text": [
      "1th Experiment with 10 samples done...\n"
     ]
    },
    {
     "name": "stderr",
     "output_type": "stream",
     "text": [
      "\n",
      "100%|██████████| 10/10 [00:00<00:00, 773.76it/s]"
     ]
    },
    {
     "name": "stdout",
     "output_type": "stream",
     "text": [
      "1th Experiment with 30 samples done...\n"
     ]
    },
    {
     "name": "stderr",
     "output_type": "stream",
     "text": [
      "\n",
      "100%|██████████| 10/10 [00:00<00:00, 706.34it/s]"
     ]
    },
    {
     "name": "stdout",
     "output_type": "stream",
     "text": [
      "1th Experiment with 50 samples done...\n"
     ]
    },
    {
     "name": "stderr",
     "output_type": "stream",
     "text": [
      "\n",
      "100%|██████████| 10/10 [00:00<00:00, 772.76it/s]"
     ]
    },
    {
     "name": "stdout",
     "output_type": "stream",
     "text": [
      "1th Experiment with 70 samples done...\n"
     ]
    },
    {
     "name": "stderr",
     "output_type": "stream",
     "text": [
      "\n",
      "100%|██████████| 10/10 [00:00<00:00, 644.07it/s]"
     ]
    },
    {
     "name": "stdout",
     "output_type": "stream",
     "text": [
      "1th Experiment with 90 samples done...\n"
     ]
    },
    {
     "name": "stderr",
     "output_type": "stream",
     "text": [
      "\n",
      "100%|██████████| 10/10 [00:00<00:00, 686.57it/s]"
     ]
    },
    {
     "name": "stdout",
     "output_type": "stream",
     "text": [
      "1th Experiment with 110 samples done...\n"
     ]
    },
    {
     "name": "stderr",
     "output_type": "stream",
     "text": [
      "\n",
      "100%|██████████| 10/10 [00:00<00:00, 451.43it/s]"
     ]
    },
    {
     "name": "stdout",
     "output_type": "stream",
     "text": [
      "1th Experiment with 130 samples done...\n"
     ]
    },
    {
     "name": "stderr",
     "output_type": "stream",
     "text": [
      "\n",
      "100%|██████████| 10/10 [00:00<00:00, 457.25it/s]"
     ]
    },
    {
     "name": "stdout",
     "output_type": "stream",
     "text": [
      "1th Experiment with 150 samples done...\n"
     ]
    },
    {
     "name": "stderr",
     "output_type": "stream",
     "text": [
      "\n",
      "100%|██████████| 10/10 [00:00<00:00, 487.60it/s]"
     ]
    },
    {
     "name": "stdout",
     "output_type": "stream",
     "text": [
      "1th Experiment with 170 samples done...\n"
     ]
    },
    {
     "name": "stderr",
     "output_type": "stream",
     "text": [
      "\n",
      "100%|██████████| 10/10 [00:00<00:00, 599.12it/s]"
     ]
    },
    {
     "name": "stdout",
     "output_type": "stream",
     "text": [
      "1th Experiment with 190 samples done...\n"
     ]
    },
    {
     "name": "stderr",
     "output_type": "stream",
     "text": [
      "\n",
      "100%|██████████| 10/10 [00:00<00:00, 493.51it/s]"
     ]
    },
    {
     "name": "stdout",
     "output_type": "stream",
     "text": [
      "1th Experiment with 210 samples done...\n"
     ]
    },
    {
     "name": "stderr",
     "output_type": "stream",
     "text": [
      "\n",
      "100%|██████████| 10/10 [00:00<00:00, 293.11it/s]"
     ]
    },
    {
     "name": "stdout",
     "output_type": "stream",
     "text": [
      "1th Experiment with 230 samples done...\n"
     ]
    },
    {
     "name": "stderr",
     "output_type": "stream",
     "text": [
      "\n",
      "100%|██████████| 10/10 [00:00<00:00, 121.46it/s]"
     ]
    },
    {
     "name": "stdout",
     "output_type": "stream",
     "text": [
      "1th Experiment with 250 samples done...\n"
     ]
    },
    {
     "name": "stderr",
     "output_type": "stream",
     "text": [
      "\n",
      "100%|██████████| 10/10 [00:00<00:00, 123.39it/s]"
     ]
    },
    {
     "name": "stdout",
     "output_type": "stream",
     "text": [
      "1th Experiment with 270 samples done...\n"
     ]
    },
    {
     "name": "stderr",
     "output_type": "stream",
     "text": [
      "\n",
      "100%|██████████| 10/10 [00:00<00:00, 720.96it/s]"
     ]
    },
    {
     "name": "stdout",
     "output_type": "stream",
     "text": [
      "1th Experiment with 290 samples done...\n"
     ]
    },
    {
     "name": "stderr",
     "output_type": "stream",
     "text": [
      "\n",
      "100%|██████████| 10/10 [00:00<00:00, 969.74it/s]"
     ]
    },
    {
     "name": "stdout",
     "output_type": "stream",
     "text": [
      "2th Experiment with 10 samples done...\n"
     ]
    },
    {
     "name": "stderr",
     "output_type": "stream",
     "text": [
      "\n",
      "100%|██████████| 10/10 [00:00<00:00, 909.06it/s]"
     ]
    },
    {
     "name": "stdout",
     "output_type": "stream",
     "text": [
      "2th Experiment with 30 samples done...\n"
     ]
    },
    {
     "name": "stderr",
     "output_type": "stream",
     "text": [
      "\n",
      "100%|██████████| 10/10 [00:00<00:00, 724.76it/s]"
     ]
    },
    {
     "name": "stdout",
     "output_type": "stream",
     "text": [
      "2th Experiment with 50 samples done...\n"
     ]
    },
    {
     "name": "stderr",
     "output_type": "stream",
     "text": [
      "\n",
      "100%|██████████| 10/10 [00:00<00:00, 671.46it/s]"
     ]
    },
    {
     "name": "stdout",
     "output_type": "stream",
     "text": [
      "2th Experiment with 70 samples done...\n"
     ]
    },
    {
     "name": "stderr",
     "output_type": "stream",
     "text": [
      "\n",
      "100%|██████████| 10/10 [00:00<00:00, 523.14it/s]"
     ]
    },
    {
     "name": "stdout",
     "output_type": "stream",
     "text": [
      "2th Experiment with 90 samples done...\n"
     ]
    },
    {
     "name": "stderr",
     "output_type": "stream",
     "text": [
      "\n",
      "100%|██████████| 10/10 [00:00<00:00, 719.83it/s]"
     ]
    },
    {
     "name": "stdout",
     "output_type": "stream",
     "text": [
      "2th Experiment with 110 samples done...\n"
     ]
    },
    {
     "name": "stderr",
     "output_type": "stream",
     "text": [
      "\n",
      "100%|██████████| 10/10 [00:00<00:00, 522.15it/s]"
     ]
    },
    {
     "name": "stdout",
     "output_type": "stream",
     "text": [
      "2th Experiment with 130 samples done...\n"
     ]
    },
    {
     "name": "stderr",
     "output_type": "stream",
     "text": [
      "\n",
      "100%|██████████| 10/10 [00:00<00:00, 652.02it/s]"
     ]
    },
    {
     "name": "stdout",
     "output_type": "stream",
     "text": [
      "2th Experiment with 150 samples done...\n"
     ]
    },
    {
     "name": "stderr",
     "output_type": "stream",
     "text": [
      "\n",
      "100%|██████████| 10/10 [00:00<00:00, 601.02it/s]"
     ]
    },
    {
     "name": "stdout",
     "output_type": "stream",
     "text": [
      "2th Experiment with 170 samples done...\n"
     ]
    },
    {
     "name": "stderr",
     "output_type": "stream",
     "text": [
      "\n",
      "100%|██████████| 10/10 [00:00<00:00, 513.18it/s]"
     ]
    },
    {
     "name": "stdout",
     "output_type": "stream",
     "text": [
      "2th Experiment with 190 samples done...\n"
     ]
    },
    {
     "name": "stderr",
     "output_type": "stream",
     "text": [
      "\n",
      "100%|██████████| 10/10 [00:00<00:00, 507.54it/s]"
     ]
    },
    {
     "name": "stdout",
     "output_type": "stream",
     "text": [
      "2th Experiment with 210 samples done...\n"
     ]
    },
    {
     "name": "stderr",
     "output_type": "stream",
     "text": [
      "\n",
      "100%|██████████| 10/10 [00:00<00:00, 125.01it/s]"
     ]
    },
    {
     "name": "stdout",
     "output_type": "stream",
     "text": [
      "2th Experiment with 230 samples done...\n"
     ]
    },
    {
     "name": "stderr",
     "output_type": "stream",
     "text": [
      "\n",
      "100%|██████████| 10/10 [00:00<00:00, 572.66it/s]"
     ]
    },
    {
     "name": "stdout",
     "output_type": "stream",
     "text": [
      "2th Experiment with 250 samples done...\n"
     ]
    },
    {
     "name": "stderr",
     "output_type": "stream",
     "text": [
      "\n",
      "100%|██████████| 10/10 [00:00<00:00, 291.41it/s]"
     ]
    },
    {
     "name": "stdout",
     "output_type": "stream",
     "text": [
      "2th Experiment with 270 samples done...\n"
     ]
    },
    {
     "name": "stderr",
     "output_type": "stream",
     "text": [
      "\n",
      "100%|██████████| 10/10 [00:00<00:00, 901.98it/s]"
     ]
    },
    {
     "name": "stdout",
     "output_type": "stream",
     "text": [
      "2th Experiment with 290 samples done...\n"
     ]
    },
    {
     "name": "stderr",
     "output_type": "stream",
     "text": [
      "\n",
      "100%|██████████| 10/10 [00:00<00:00, 792.99it/s]"
     ]
    },
    {
     "name": "stdout",
     "output_type": "stream",
     "text": [
      "3th Experiment with 10 samples done...\n"
     ]
    },
    {
     "name": "stderr",
     "output_type": "stream",
     "text": [
      "\n",
      "100%|██████████| 10/10 [00:00<00:00, 487.28it/s]"
     ]
    },
    {
     "name": "stdout",
     "output_type": "stream",
     "text": [
      "3th Experiment with 30 samples done...\n"
     ]
    },
    {
     "name": "stderr",
     "output_type": "stream",
     "text": [
      "\n",
      "100%|██████████| 10/10 [00:00<00:00, 501.92it/s]"
     ]
    },
    {
     "name": "stdout",
     "output_type": "stream",
     "text": [
      "3th Experiment with 50 samples done...\n"
     ]
    },
    {
     "name": "stderr",
     "output_type": "stream",
     "text": [
      "\n",
      "100%|██████████| 10/10 [00:00<00:00, 648.95it/s]"
     ]
    },
    {
     "name": "stdout",
     "output_type": "stream",
     "text": [
      "3th Experiment with 70 samples done...\n"
     ]
    },
    {
     "name": "stderr",
     "output_type": "stream",
     "text": [
      "\n",
      "100%|██████████| 10/10 [00:00<00:00, 679.40it/s]"
     ]
    },
    {
     "name": "stdout",
     "output_type": "stream",
     "text": [
      "3th Experiment with 90 samples done...\n"
     ]
    },
    {
     "name": "stderr",
     "output_type": "stream",
     "text": [
      "\n",
      "100%|██████████| 10/10 [00:00<00:00, 679.10it/s]"
     ]
    },
    {
     "name": "stdout",
     "output_type": "stream",
     "text": [
      "3th Experiment with 110 samples done...\n"
     ]
    },
    {
     "name": "stderr",
     "output_type": "stream",
     "text": [
      "\n",
      "100%|██████████| 10/10 [00:00<00:00, 740.77it/s]"
     ]
    },
    {
     "name": "stdout",
     "output_type": "stream",
     "text": [
      "3th Experiment with 130 samples done...\n"
     ]
    },
    {
     "name": "stderr",
     "output_type": "stream",
     "text": [
      "\n",
      "100%|██████████| 10/10 [00:00<00:00, 517.76it/s]"
     ]
    },
    {
     "name": "stdout",
     "output_type": "stream",
     "text": [
      "3th Experiment with 150 samples done...\n"
     ]
    },
    {
     "name": "stderr",
     "output_type": "stream",
     "text": [
      "\n",
      "100%|██████████| 10/10 [00:00<00:00, 460.36it/s]"
     ]
    },
    {
     "name": "stdout",
     "output_type": "stream",
     "text": [
      "3th Experiment with 170 samples done...\n"
     ]
    },
    {
     "name": "stderr",
     "output_type": "stream",
     "text": [
      "\n",
      "100%|██████████| 10/10 [00:00<00:00, 601.63it/s]"
     ]
    },
    {
     "name": "stdout",
     "output_type": "stream",
     "text": [
      "3th Experiment with 190 samples done...\n"
     ]
    },
    {
     "name": "stderr",
     "output_type": "stream",
     "text": [
      "\n",
      "100%|██████████| 10/10 [00:00<00:00, 469.09it/s]"
     ]
    },
    {
     "name": "stdout",
     "output_type": "stream",
     "text": [
      "3th Experiment with 210 samples done...\n"
     ]
    },
    {
     "name": "stderr",
     "output_type": "stream",
     "text": [
      "\n",
      "100%|██████████| 10/10 [00:00<00:00, 123.17it/s]"
     ]
    },
    {
     "name": "stdout",
     "output_type": "stream",
     "text": [
      "3th Experiment with 230 samples done...\n"
     ]
    },
    {
     "name": "stderr",
     "output_type": "stream",
     "text": [
      "\n",
      "100%|██████████| 10/10 [00:00<00:00, 132.98it/s]"
     ]
    },
    {
     "name": "stdout",
     "output_type": "stream",
     "text": [
      "3th Experiment with 250 samples done...\n"
     ]
    },
    {
     "name": "stderr",
     "output_type": "stream",
     "text": [
      "\n",
      "100%|██████████| 10/10 [00:00<00:00, 159.32it/s]"
     ]
    },
    {
     "name": "stdout",
     "output_type": "stream",
     "text": [
      "3th Experiment with 270 samples done...\n"
     ]
    },
    {
     "name": "stderr",
     "output_type": "stream",
     "text": [
      "\n",
      "100%|██████████| 10/10 [00:00<00:00, 909.24it/s]"
     ]
    },
    {
     "name": "stdout",
     "output_type": "stream",
     "text": [
      "3th Experiment with 290 samples done...\n"
     ]
    },
    {
     "name": "stderr",
     "output_type": "stream",
     "text": [
      "\n",
      "100%|██████████| 10/10 [00:00<00:00, 661.28it/s]"
     ]
    },
    {
     "name": "stdout",
     "output_type": "stream",
     "text": [
      "4th Experiment with 10 samples done...\n"
     ]
    },
    {
     "name": "stderr",
     "output_type": "stream",
     "text": [
      "\n",
      "100%|██████████| 10/10 [00:00<00:00, 591.44it/s]"
     ]
    },
    {
     "name": "stdout",
     "output_type": "stream",
     "text": [
      "4th Experiment with 30 samples done...\n"
     ]
    },
    {
     "name": "stderr",
     "output_type": "stream",
     "text": [
      "\n",
      "100%|██████████| 10/10 [00:00<00:00, 838.31it/s]"
     ]
    },
    {
     "name": "stdout",
     "output_type": "stream",
     "text": [
      "4th Experiment with 50 samples done...\n"
     ]
    },
    {
     "name": "stderr",
     "output_type": "stream",
     "text": [
      "\n",
      "100%|██████████| 10/10 [00:00<00:00, 567.48it/s]"
     ]
    },
    {
     "name": "stdout",
     "output_type": "stream",
     "text": [
      "4th Experiment with 70 samples done...\n"
     ]
    },
    {
     "name": "stderr",
     "output_type": "stream",
     "text": [
      "\n",
      "100%|██████████| 10/10 [00:00<00:00, 692.16it/s]"
     ]
    },
    {
     "name": "stdout",
     "output_type": "stream",
     "text": [
      "4th Experiment with 90 samples done...\n"
     ]
    },
    {
     "name": "stderr",
     "output_type": "stream",
     "text": [
      "\n",
      "100%|██████████| 10/10 [00:00<00:00, 695.57it/s]"
     ]
    },
    {
     "name": "stdout",
     "output_type": "stream",
     "text": [
      "4th Experiment with 110 samples done...\n"
     ]
    },
    {
     "name": "stderr",
     "output_type": "stream",
     "text": [
      "\n",
      "100%|██████████| 10/10 [00:00<00:00, 757.98it/s]"
     ]
    },
    {
     "name": "stdout",
     "output_type": "stream",
     "text": [
      "4th Experiment with 130 samples done...\n"
     ]
    },
    {
     "name": "stderr",
     "output_type": "stream",
     "text": [
      "\n",
      "100%|██████████| 10/10 [00:00<00:00, 556.94it/s]"
     ]
    },
    {
     "name": "stdout",
     "output_type": "stream",
     "text": [
      "4th Experiment with 150 samples done...\n"
     ]
    },
    {
     "name": "stderr",
     "output_type": "stream",
     "text": [
      "\n",
      "100%|██████████| 10/10 [00:00<00:00, 619.63it/s]"
     ]
    },
    {
     "name": "stdout",
     "output_type": "stream",
     "text": [
      "4th Experiment with 170 samples done...\n"
     ]
    },
    {
     "name": "stderr",
     "output_type": "stream",
     "text": [
      "\n",
      "100%|██████████| 10/10 [00:00<00:00, 598.77it/s]"
     ]
    },
    {
     "name": "stdout",
     "output_type": "stream",
     "text": [
      "4th Experiment with 190 samples done...\n"
     ]
    },
    {
     "name": "stderr",
     "output_type": "stream",
     "text": [
      "\n",
      "100%|██████████| 10/10 [00:00<00:00, 469.18it/s]"
     ]
    },
    {
     "name": "stdout",
     "output_type": "stream",
     "text": [
      "4th Experiment with 210 samples done...\n"
     ]
    },
    {
     "name": "stderr",
     "output_type": "stream",
     "text": [
      "\n",
      "100%|██████████| 10/10 [00:00<00:00, 126.75it/s]"
     ]
    },
    {
     "name": "stdout",
     "output_type": "stream",
     "text": [
      "4th Experiment with 230 samples done...\n"
     ]
    },
    {
     "name": "stderr",
     "output_type": "stream",
     "text": [
      "\n",
      "100%|██████████| 10/10 [00:00<00:00, 577.39it/s]"
     ]
    },
    {
     "name": "stdout",
     "output_type": "stream",
     "text": [
      "4th Experiment with 250 samples done...\n"
     ]
    },
    {
     "name": "stderr",
     "output_type": "stream",
     "text": [
      "\n",
      "100%|██████████| 10/10 [00:00<00:00, 132.80it/s]"
     ]
    },
    {
     "name": "stdout",
     "output_type": "stream",
     "text": [
      "4th Experiment with 270 samples done...\n"
     ]
    },
    {
     "name": "stderr",
     "output_type": "stream",
     "text": [
      "\n"
     ]
    },
    {
     "name": "stdout",
     "output_type": "stream",
     "text": [
      "4th Experiment with 290 samples done...\n"
     ]
    },
    {
     "data": {
      "image/png": "[encoded data removed]",
      "text/plain": [
       "<Figure size 432x288 with 1 Axes>"
      ]
     },
     "metadata": {
      "needs_background": "light"
     },
     "output_type": "display_data"
    },
    {
     "data": {
      "image/png": "[encoded data removed]",
      "text/plain": [
       "<Figure size 432x288 with 1 Axes>"
      ]
     },
     "metadata": {
      "needs_background": "light"
     },
     "output_type": "display_data"
    },
    {
     "data": {
      "image/png": "[encoded data removed]",
      "text/plain": [
       "<Figure size 432x288 with 1 Axes>"
      ]
     },
     "metadata": {
      "needs_background": "light"
     },
     "output_type": "display_data"
    }
   ],
   "source": [
    "#plot 1\n",
    "np.random.seed(0)\n",
    "ns = np.arange(10, 310, 20)\n",
    "replicates = 5\n",
    "num_methods = 7\n",
    "num_sets = 3\n",
    "mses = np.zeros((len(ns), replicates, num_methods, num_sets))\n",
    "def generate_data(sensor_loc, k=7, d=2, n=1, original_dist=True, noise=1):\n",
    "    return generate_dataset(\n",
    "        sensor_loc,\n",
    "        num_sensors=k,\n",
    "        spatial_dim=d,\n",
    "        num_data=n,\n",
    "        original_dist=original_dist,\n",
    "        noise=noise)\n",
    "for s in range(replicates):\n",
    "    sensor_loc = generate_sensors()\n",
    "    X_test, Y_test = generate_data(sensor_loc, n=1000)\n",
    "    X_test2, Y_test2 = generate_data(\n",
    "        sensor_loc, n=1000, original_dist=False)\n",
    "    for t, n in enumerate(ns):\n",
    "        X, Y = generate_data(sensor_loc, n=n)  # X [n * 2] Y [n * 7]\n",
    "        Xs_test, Ys_test = [X, X_test, X_test2], [Y, Y_test, Y_test2]\n",
    "        ### Linear regression:\n",
    "        mse = linear_regression(X, Y, Xs_test, Ys_test)\n",
    "        mses[t, s, 0] = mse\n",
    "        ### Second-order Polynomial regression:\n",
    "        mse = poly_regression_second(X, Y, Xs_test, Ys_test)\n",
    "        mses[t, s, 1] = mse\n",
    "#         ### 3rd-order Polynomial regression:\n",
    "#         mse = poly_regression_cubic(X, Y, Xs_test, Ys_test)\n",
    "#         mses[t, s, 2] = mse\n",
    "        ### Neural Network:\n",
    "        mse = neural_network(X, Y, Xs_test, Ys_test)\n",
    "        mses[t, s, 3] = mse\n",
    "        ### Generative model:\n",
    "        mse = generative_model(X, Y, Xs_test, Ys_test)\n",
    "        mses[t, s, 4] = mse\n",
    "        ### Oracle model:\n",
    "        mse = oracle_model(X, Y, Xs_test, Ys_test, sensor_loc)\n",
    "        mses[t, s, 5] = mse\n",
    "        ### Zero model:\n",
    "        mse = zero_model(X, Y, Xs_test, Ys_test, sensor_loc)\n",
    "        mses[t, s, 6] = mse\n",
    "        print('{}th Experiment with {} samples done...'.format(s, n))\n",
    "### Plot MSE for each model.\n",
    "plt.figure()\n",
    "regressors = [\n",
    "    'Linear Regression', '2nd-order Polynomial Regression',\n",
    "    '3rd-order Polynomial Regression', 'Neural Network',\n",
    "    'Generative Model', 'Oracle Model', 'Zero Model'\n",
    "]\n",
    "for a in range(7):\n",
    "    plt.plot(ns, np.mean(mses[:, :, a, 0], axis=1), label=regressors[a])\n",
    "plt.title('Error on training data for Various models')\n",
    "plt.xlabel('Number of training data')\n",
    "plt.ylabel('Average Error')\n",
    "plt.legend(loc='best')\n",
    "plt.yscale('log')\n",
    "plt.savefig('train_mse.png')\n",
    "plt.show()\n",
    "plt.figure()\n",
    "for a in range(7):\n",
    "    plt.plot(ns, np.mean(mses[:, :, a, 1], axis=1), label=regressors[a])\n",
    "plt.title(\n",
    "    'Error on test data from the same distribution for Various models')\n",
    "plt.xlabel('Number of training data')\n",
    "plt.ylabel('Average Error')\n",
    "plt.legend(loc='best')\n",
    "plt.yscale('log')\n",
    "plt.savefig('val_same_mse.png')\n",
    "plt.show()\n",
    "plt.figure()\n",
    "for a in range(7):\n",
    "    plt.plot(ns, np.mean(mses[:, :, a, 2], axis=1), label=regressors[a])\n",
    "plt.title(\n",
    "    'Error on test data from a different distribution for Various models')\n",
    "plt.xlabel('Number of training data')\n",
    "plt.ylabel('Average Error')\n",
    "plt.legend(loc='best')\n",
    "plt.yscale('log')\n",
    "plt.savefig('val_different_mse.png')\n",
    "plt.show()\n"
   ]
  },
  {
   "cell_type": "markdown",
   "metadata": {},
   "source": [
    "# Part D\n"
   ]
  },
  {
   "cell_type": "code",
   "execution_count": null,
   "metadata": {},
   "outputs": [],
   "source": [
    "# plot 2\n",
    "def neural_network(X, Y, X_test, Y_test, num_neurons, activation):\n",
    "    \"\"\"\n",
    "    This function performs neural network prediction.\n",
    "    Input:\n",
    "    X: independent variables in training data.\n",
    "    Y: dependent variables in training data.\n",
    "    X_test: independent variables in test data.\n",
    "    Y_test: dependent variables in test data.\n",
    "    Output:\n",
    "    mse: Mean square error on test data.\n",
    "    \"\"\"\n",
    "    mse = 0\n",
    "    ### start nn2 ###\n",
    "\n",
    "    ### end nn2 ###\n",
    "    return mse\n",
    "\n",
    "#############################################################################\n",
    "#######################PLOT PART 2###########################################\n",
    "#############################################################################\n",
    "def generate_data(sensor_loc, k=7, d=2, n=1, original_dist=True, noise=1):\n",
    "    return generate_dataset(\n",
    "        sensor_loc,\n",
    "        num_sensors=k,\n",
    "        spatial_dim=d,\n",
    "        num_data=n,\n",
    "        original_dist=original_dist,\n",
    "        noise=noise)\n",
    "\n",
    "\n",
    "np.random.seed(0)\n",
    "n = 200\n",
    "num_neuronss = np.arange(100, 550, 50)\n",
    "mses = np.zeros((len(num_neuronss), 2))\n",
    "\n",
    "# for s in range(replicates):\n",
    "\n",
    "sensor_loc = generate_sensors()\n",
    "X, Y = generate_data(sensor_loc, n=n)  # X [n * 2] Y [n * 7]\n",
    "X_test, Y_test = generate_data(sensor_loc, n=1000)\n",
    "for t, num_neurons in enumerate(num_neuronss):\n",
    "    ### Neural Network:\n",
    "    mse = neural_network(X, Y, X_test, Y_test, num_neurons, ReLUActivation)\n",
    "    mses[t, 0] = mse\n",
    "\n",
    "    mse = neural_network(X, Y, X_test, Y_test, num_neurons, TanhActivation)\n",
    "    mses[t, 1] = mse\n",
    "\n",
    "    # print('{}th Experiment with {} samples done...'.format(s, n))\n",
    "    print('Experiment with {} neurons done...'.format(num_neurons))\n",
    "\n",
    "### Plot MSE for each model.\n",
    "plt.figure()\n",
    "activation_names = ['ReLU', 'Tanh']\n",
    "for a in range(2):\n",
    "    plt.plot(num_neuronss, mses[:, a], label=activation_names[a])\n",
    "\n",
    "plt.title('Error on validation data verses number of neurons')\n",
    "plt.xlabel('Number of neurons')\n",
    "plt.ylabel('Average Error')\n",
    "plt.legend(loc='best')\n",
    "plt.yscale('log')\n",
    "plt.savefig('num_neurons.png')\n"
   ]
  },
  {
   "cell_type": "markdown",
   "metadata": {},
   "source": [
    "# Part E\n"
   ]
  },
  {
   "cell_type": "code",
   "execution_count": null,
   "metadata": {},
   "outputs": [],
   "source": [
    "# plot 3\n",
    "\n",
    "def neural_network(X, Y, X_test, Y_test, num_layers, activation):\n",
    "    \"\"\"\n",
    "    This function performs neural network prediction.\n",
    "    Input:\n",
    "    X: independent variables in training data.\n",
    "    Y: dependent variables in training data.\n",
    "    X_test: independent variables in test data.\n",
    "    Y_test: dependent variables in test data.\n",
    "    Output:\n",
    "    mse: Mean square error on test data.\n",
    "    \"\"\"\n",
    "    ### start nn3 ###\n",
    "\n",
    "    ### end nn3 ###\n",
    "    return mse\n",
    "\n",
    "\n",
    "#############################################################################\n",
    "#######################PLOT PART 2###########################################\n",
    "#############################################################################\n",
    "def generate_data(sensor_loc, k=7, d=2, n=1, original_dist=True, noise=1):\n",
    "    return generate_dataset(\n",
    "        sensor_loc,\n",
    "        num_sensors=k,\n",
    "        spatial_dim=d,\n",
    "        num_data=n,\n",
    "        original_dist=original_dist,\n",
    "        noise=noise)\n",
    "\n",
    "\n",
    "np.random.seed(0)\n",
    "n = 200\n",
    "num_layerss = [1, 2, 3, 4]\n",
    "mses = np.zeros((len(num_layerss), 2))\n",
    "\n",
    "# for s in range(replicates):\n",
    "sensor_loc = generate_sensors()\n",
    "X, Y = generate_data(sensor_loc, n=n)  # X [n * 2] Y [n * 7]\n",
    "X_test, Y_test = generate_data(sensor_loc, n=1000)\n",
    "for t, num_layers in enumerate(num_layerss):\n",
    "    ### Neural Network:\n",
    "    mse = neural_network(X, Y, X_test, Y_test, num_layers, ReLUActivation)\n",
    "    mses[t, 0] = mse\n",
    "\n",
    "    mse = neural_network(X, Y, X_test, Y_test, num_layers, TanhActivation)\n",
    "    mses[t, 1] = mse\n",
    "\n",
    "    # print('{}th Experiment with {} samples done...'.format(s, n))\n",
    "    print('Experiment with {} layers done...'.format(num_layers))\n",
    "\n",
    "### Plot MSE for each model.\n",
    "plt.figure()\n",
    "activation_names = ['ReLU', 'Tanh']\n",
    "for a in range(2):\n",
    "    plt.plot(num_layerss, mses[:, a], label=activation_names[a])\n",
    "\n",
    "plt.title('Error on validation data verses number of neurons')\n",
    "plt.xlabel('Number of layers')\n",
    "plt.ylabel('Average Error')\n",
    "plt.legend(loc='best')\n",
    "plt.yscale('log')\n",
    "plt.savefig('num_layers.png')\n"
   ]
  },
  {
   "cell_type": "markdown",
   "metadata": {},
   "source": [
    "# Part F\n"
   ]
  },
  {
   "cell_type": "code",
   "execution_count": null,
   "metadata": {},
   "outputs": [],
   "source": [
    "# plot4\n",
    "\n",
    "def neural_network(X, Y, Xs_test, Ys_test):\n",
    "    \"\"\"\n",
    "    This function performs neural network prediction.\n",
    "    Input:\n",
    "    X: independent variables in training data.\n",
    "    Y: dependent variables in training data.\n",
    "    X_test: independent variables in test data.\n",
    "    Y_test: dependent variables in test data.\n",
    "    Output:\n",
    "    mse: Mean square error on test data.\n",
    "    \"\"\"\n",
    "    mses = 0\n",
    "    ### start nn4 ###\n",
    "\n",
    "    ### end nn4 ###\n",
    "    return mses\n",
    "\n",
    "\n",
    "\n",
    "#############################################################################\n",
    "#######################PLOT PART 1###########################################\n",
    "#############################################################################\n",
    "np.random.seed(0)\n",
    "\n",
    "ns = np.arange(10, 310, 20)\n",
    "replicates = 5\n",
    "num_methods = 6\n",
    "num_sets = 3\n",
    "mses = np.zeros((len(ns), replicates, num_methods, num_sets))\n",
    "\n",
    "def generate_data(sensor_loc, k=7, d=2, n=1, original_dist=True, noise=1):\n",
    "    return generate_dataset(\n",
    "        sensor_loc,\n",
    "        num_sensors=k,\n",
    "        spatial_dim=d,\n",
    "        num_data=n,\n",
    "        original_dist=original_dist,\n",
    "        noise=noise)\n",
    "\n",
    "for s in range(replicates):\n",
    "    sensor_loc = generate_sensors()\n",
    "    X_test, Y_test = generate_data(sensor_loc, n=1000)\n",
    "    X_test2, Y_test2 = generate_data(\n",
    "        sensor_loc, n=1000, original_dist=False)\n",
    "    for t, n in enumerate(ns):\n",
    "        X, Y = generate_data(sensor_loc, n=n)  # X [n * 2] Y [n * 7]\n",
    "        Xs_test, Ys_test = [X, X_test, X_test2], [Y, Y_test, Y_test2]\n",
    "        ### Linear regression:\n",
    "        mse = linear_regression(X, Y, Xs_test, Ys_test)\n",
    "        mses[t, s, 0] = mse\n",
    "\n",
    "        ### Second-order Polynomial regression:\n",
    "        mse = poly_regression_second(X, Y, Xs_test, Ys_test)\n",
    "        mses[t, s, 1] = mse\n",
    "\n",
    "        ### 3rd-order Polynomial regression:\n",
    "        mse = poly_regression_cubic(X, Y, Xs_test, Ys_test)\n",
    "        mses[t, s, 2] = mse\n",
    "\n",
    "        ### Neural Network:\n",
    "        mse = neural_network(X, Y, Xs_test, Ys_test)\n",
    "        mses[t, s, 3] = mse\n",
    "\n",
    "        ### Generative model:\n",
    "        mse = generative_model(X, Y, Xs_test, Ys_test)\n",
    "        mses[t, s, 4] = mse\n",
    "\n",
    "        ### Oracle model:\n",
    "        mse = oracle_model(X, Y, Xs_test, Ys_test, sensor_loc)\n",
    "        mses[t, s, 5] = mse\n",
    "\n",
    "        print('{}th Experiment with {} samples done...'.format(s, n))\n",
    "\n",
    "### Plot MSE for each model.\n",
    "plt.figure()\n",
    "regressors = [\n",
    "    'Linear Regression', '2nd-order Polynomial Regression',\n",
    "    '3rd-order Polynomial Regression', 'Neural Network',\n",
    "    'Generative Model', 'Oracle Model'\n",
    "]\n",
    "for a in range(6):\n",
    "    plt.plot(ns, np.mean(mses[:, :, a, 0], axis=1), label=regressors[a])\n",
    "\n",
    "plt.title('Error on training data for Various models')\n",
    "plt.xlabel('Number of training data')\n",
    "plt.ylabel('Average Error')\n",
    "plt.legend(loc='best')\n",
    "plt.yscale('log')\n",
    "plt.savefig('best_train_mse.png')\n",
    "plt.show()\n",
    "\n",
    "plt.figure()\n",
    "for a in range(6):\n",
    "    plt.plot(ns, np.mean(mses[:, :, a, 1], axis=1), label=regressors[a])\n",
    "\n",
    "plt.title(\n",
    "    'Error on test data from the same distribution for Various models')\n",
    "plt.xlabel('Number of training data')\n",
    "plt.ylabel('Average Error')\n",
    "plt.legend(loc='best')\n",
    "plt.yscale('log')\n",
    "plt.savefig('best_val_same_mse.png')\n",
    "plt.show()\n",
    "\n",
    "plt.figure()\n",
    "for a in range(6):\n",
    "    plt.plot(ns, np.mean(mses[:, :, a, 2], axis=1), label=regressors[a])\n",
    "\n",
    "plt.title(\n",
    "    'Error on test data from a different distribution for Various models')\n",
    "plt.xlabel('Number of training data')\n",
    "plt.ylabel('Average Error')\n",
    "plt.legend(loc='best')\n",
    "plt.yscale('log')\n",
    "plt.savefig('best_val_different_mse.png')\n",
    "plt.show()\n"
   ]
  }
 ],
 "metadata": {
  "kernelspec": {
   "display_name": "Python 3",
   "language": "python",
   "name": "python3"
  },
  "language_info": {
   "codemirror_mode": {
    "name": "ipython",
    "version": 3
   },
   "file_extension": ".py",
   "mimetype": "text/x-python",
   "name": "python",
   "nbconvert_exporter": "python",
   "pygments_lexer": "ipython3",
   "version": "3.8.5"
  }
 },
 "nbformat": 4,
 "nbformat_minor": 4
}
